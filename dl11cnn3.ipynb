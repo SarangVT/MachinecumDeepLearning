{
 "cells": [
  {
   "cell_type": "code",
   "execution_count": 1,
   "metadata": {},
   "outputs": [
    {
     "data": {
      "text/plain": [
       "'CNN Derivatives:\\n\\n\\n'"
      ]
     },
     "execution_count": 1,
     "metadata": {},
     "output_type": "execute_result"
    }
   ],
   "source": [
    "\"\"\"CNN Derivatives:\n",
    "The derivatives in the part after Flatten layer, are similar to that of ANN.\n",
    "Chain rule applied multiple times.\n",
    "While, the carrying of partial derivatives or gradient flow in BackPropagation in convolution step, is different.\n",
    "Reshaping matrix in case of Flatten .\n",
    "Then, in case of MaxPooling, adding 0 to vacant places as they don't have any impact on Loss Function, and regaining the shape.\n",
    "Then, in relu or other activation functions according to their rules.\n",
    "Then, in convolution by filters,\n",
    "First output matrix's every element is written in form of the weights and bias in the matrix itself, weights refer to convolutional layer's filter's values.\n",
    "Then, derivative is calculated of that matrix with respect to our filter matrix and bias.\n",
    "\"\"\""
   ]
  },
  {
   "cell_type": "code",
   "execution_count": 1,
   "metadata": {},
   "outputs": [
    {
     "data": {
      "text/plain": [
       "\"Data Augmentation:\\nIt is a powerfult technique to make new data from existing data.\\nFor e.g: Rotating, shifting, mirroring, etc keeping our original information intact and using generalized data to modify it and make more data.\\nFor e.g. If in all images, cat is looking in left, we can mirror it and make it look right, this reduces overfitting while, also increasing model performance as now it also don't generalize a feature that it looks left, and also our data is twiced.\\nYou can copy code from any sources.\\n\""
      ]
     },
     "execution_count": 1,
     "metadata": {},
     "output_type": "execute_result"
    }
   ],
   "source": [
    "\"\"\"Data Augmentation:\n",
    "It is a powerfult technique to make new data from existing data.\n",
    "For e.g: Rotating, shifting, mirroring, etc keeping our original information intact and using generalized data to modify it and make more data.\n",
    "For e.g. If in all images, cat is looking in left, we can mirror it and make it look right, this reduces overfitting while, also increasing model performance as now it also don't generalize a feature that it looks left, and also our data is twiced.\n",
    "You can copy code from any sources.\n",
    "\"\"\""
   ]
  },
  {
   "cell_type": "code",
   "execution_count": null,
   "metadata": {},
   "outputs": [],
   "source": [
    "\"\"\"We can also use pre-trained models, saves moeny and time.\n",
    "Available in keras.applications.resnet50\n",
    "here we can change name 'resnet50' and use different models.\n",
    "\"\"\""
   ]
  }
 ],
 "metadata": {
  "kernelspec": {
   "display_name": "Python 3",
   "language": "python",
   "name": "python3"
  },
  "language_info": {
   "codemirror_mode": {
    "name": "ipython",
    "version": 3
   },
   "file_extension": ".py",
   "mimetype": "text/x-python",
   "name": "python",
   "nbconvert_exporter": "python",
   "pygments_lexer": "ipython3",
   "version": "3.11.9"
  }
 },
 "nbformat": 4,
 "nbformat_minor": 2
}
