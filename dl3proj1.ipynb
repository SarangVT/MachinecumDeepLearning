{
 "cells": [
  {
   "cell_type": "code",
   "execution_count": 1,
   "metadata": {
    "_cell_guid": "b1076dfc-b9ad-4769-8c92-a6c4dae69d19",
    "_uuid": "8f2839f25d086af736a60e9eeb907d3b93b6e0e5",
    "execution": {
     "iopub.execute_input": "2024-12-08T15:53:26.534833Z",
     "iopub.status.busy": "2024-12-08T15:53:26.534195Z",
     "iopub.status.idle": "2024-12-08T15:53:27.664009Z",
     "shell.execute_reply": "2024-12-08T15:53:27.662894Z",
     "shell.execute_reply.started": "2024-12-08T15:53:26.534794Z"
    },
    "trusted": true
   },
   "outputs": [],
   "source": [
    "import numpy as np # linear algebra\n",
    "import pandas as pd # data processing, CSV file I/O (e.g. pd.read_csv)"
   ]
  },
  {
   "cell_type": "code",
   "execution_count": null,
   "metadata": {
    "execution": {
     "iopub.execute_input": "2024-12-08T16:00:36.466436Z",
     "iopub.status.busy": "2024-12-08T16:00:36.466062Z",
     "iopub.status.idle": "2024-12-08T16:00:36.505669Z",
     "shell.execute_reply": "2024-12-08T16:00:36.504588Z",
     "shell.execute_reply.started": "2024-12-08T16:00:36.466404Z"
    },
    "trusted": true
   },
   "outputs": [
    {
     "name": "stdout",
     "output_type": "stream",
     "text": [
      "(10000, 14)\n"
     ]
    },
    {
     "data": {
      "text/html": [
       "<div>\n",
       "<style scoped>\n",
       "    .dataframe tbody tr th:only-of-type {\n",
       "        vertical-align: middle;\n",
       "    }\n",
       "\n",
       "    .dataframe tbody tr th {\n",
       "        vertical-align: top;\n",
       "    }\n",
       "\n",
       "    .dataframe thead th {\n",
       "        text-align: right;\n",
       "    }\n",
       "</style>\n",
       "<table border=\"1\" class=\"dataframe\">\n",
       "  <thead>\n",
       "    <tr style=\"text-align: right;\">\n",
       "      <th></th>\n",
       "      <th>RowNumber</th>\n",
       "      <th>CustomerId</th>\n",
       "      <th>Surname</th>\n",
       "      <th>CreditScore</th>\n",
       "      <th>Geography</th>\n",
       "      <th>Gender</th>\n",
       "      <th>Age</th>\n",
       "      <th>Tenure</th>\n",
       "      <th>Balance</th>\n",
       "      <th>NumOfProducts</th>\n",
       "      <th>HasCrCard</th>\n",
       "      <th>IsActiveMember</th>\n",
       "      <th>EstimatedSalary</th>\n",
       "      <th>Exited</th>\n",
       "    </tr>\n",
       "  </thead>\n",
       "  <tbody>\n",
       "    <tr>\n",
       "      <th>0</th>\n",
       "      <td>1</td>\n",
       "      <td>15634602</td>\n",
       "      <td>Hargrave</td>\n",
       "      <td>619</td>\n",
       "      <td>France</td>\n",
       "      <td>Female</td>\n",
       "      <td>42</td>\n",
       "      <td>2</td>\n",
       "      <td>0.00</td>\n",
       "      <td>1</td>\n",
       "      <td>1</td>\n",
       "      <td>1</td>\n",
       "      <td>101348.88</td>\n",
       "      <td>1</td>\n",
       "    </tr>\n",
       "    <tr>\n",
       "      <th>1</th>\n",
       "      <td>2</td>\n",
       "      <td>15647311</td>\n",
       "      <td>Hill</td>\n",
       "      <td>608</td>\n",
       "      <td>Spain</td>\n",
       "      <td>Female</td>\n",
       "      <td>41</td>\n",
       "      <td>1</td>\n",
       "      <td>83807.86</td>\n",
       "      <td>1</td>\n",
       "      <td>0</td>\n",
       "      <td>1</td>\n",
       "      <td>112542.58</td>\n",
       "      <td>0</td>\n",
       "    </tr>\n",
       "    <tr>\n",
       "      <th>2</th>\n",
       "      <td>3</td>\n",
       "      <td>15619304</td>\n",
       "      <td>Onio</td>\n",
       "      <td>502</td>\n",
       "      <td>France</td>\n",
       "      <td>Female</td>\n",
       "      <td>42</td>\n",
       "      <td>8</td>\n",
       "      <td>159660.80</td>\n",
       "      <td>3</td>\n",
       "      <td>1</td>\n",
       "      <td>0</td>\n",
       "      <td>113931.57</td>\n",
       "      <td>1</td>\n",
       "    </tr>\n",
       "    <tr>\n",
       "      <th>3</th>\n",
       "      <td>4</td>\n",
       "      <td>15701354</td>\n",
       "      <td>Boni</td>\n",
       "      <td>699</td>\n",
       "      <td>France</td>\n",
       "      <td>Female</td>\n",
       "      <td>39</td>\n",
       "      <td>1</td>\n",
       "      <td>0.00</td>\n",
       "      <td>2</td>\n",
       "      <td>0</td>\n",
       "      <td>0</td>\n",
       "      <td>93826.63</td>\n",
       "      <td>0</td>\n",
       "    </tr>\n",
       "    <tr>\n",
       "      <th>4</th>\n",
       "      <td>5</td>\n",
       "      <td>15737888</td>\n",
       "      <td>Mitchell</td>\n",
       "      <td>850</td>\n",
       "      <td>Spain</td>\n",
       "      <td>Female</td>\n",
       "      <td>43</td>\n",
       "      <td>2</td>\n",
       "      <td>125510.82</td>\n",
       "      <td>1</td>\n",
       "      <td>1</td>\n",
       "      <td>1</td>\n",
       "      <td>79084.10</td>\n",
       "      <td>0</td>\n",
       "    </tr>\n",
       "  </tbody>\n",
       "</table>\n",
       "</div>"
      ],
      "text/plain": [
       "   RowNumber  CustomerId   Surname  CreditScore Geography  Gender  Age  \\\n",
       "0          1    15634602  Hargrave          619    France  Female   42   \n",
       "1          2    15647311      Hill          608     Spain  Female   41   \n",
       "2          3    15619304      Onio          502    France  Female   42   \n",
       "3          4    15701354      Boni          699    France  Female   39   \n",
       "4          5    15737888  Mitchell          850     Spain  Female   43   \n",
       "\n",
       "   Tenure    Balance  NumOfProducts  HasCrCard  IsActiveMember  \\\n",
       "0       2       0.00              1          1               1   \n",
       "1       1   83807.86              1          0               1   \n",
       "2       8  159660.80              3          1               0   \n",
       "3       1       0.00              2          0               0   \n",
       "4       2  125510.82              1          1               1   \n",
       "\n",
       "   EstimatedSalary  Exited  \n",
       "0        101348.88       1  \n",
       "1        112542.58       0  \n",
       "2        113931.57       1  \n",
       "3         93826.63       0  \n",
       "4         79084.10       0  "
      ]
     },
     "execution_count": 4,
     "metadata": {},
     "output_type": "execute_result"
    }
   ],
   "source": [
    "df = pd.read_csv('dl3Churn_Modelling.csv')\n",
    "print(df.shape)\n",
    "df.head()"
   ]
  },
  {
   "cell_type": "code",
   "execution_count": 5,
   "metadata": {
    "execution": {
     "iopub.execute_input": "2024-12-08T16:01:02.682309Z",
     "iopub.status.busy": "2024-12-08T16:01:02.681374Z",
     "iopub.status.idle": "2024-12-08T16:01:02.714950Z",
     "shell.execute_reply": "2024-12-08T16:01:02.713697Z",
     "shell.execute_reply.started": "2024-12-08T16:01:02.682255Z"
    },
    "trusted": true
   },
   "outputs": [
    {
     "name": "stdout",
     "output_type": "stream",
     "text": [
      "<class 'pandas.core.frame.DataFrame'>\n",
      "RangeIndex: 10000 entries, 0 to 9999\n",
      "Data columns (total 14 columns):\n",
      " #   Column           Non-Null Count  Dtype  \n",
      "---  ------           --------------  -----  \n",
      " 0   RowNumber        10000 non-null  int64  \n",
      " 1   CustomerId       10000 non-null  int64  \n",
      " 2   Surname          10000 non-null  object \n",
      " 3   CreditScore      10000 non-null  int64  \n",
      " 4   Geography        10000 non-null  object \n",
      " 5   Gender           10000 non-null  object \n",
      " 6   Age              10000 non-null  int64  \n",
      " 7   Tenure           10000 non-null  int64  \n",
      " 8   Balance          10000 non-null  float64\n",
      " 9   NumOfProducts    10000 non-null  int64  \n",
      " 10  HasCrCard        10000 non-null  int64  \n",
      " 11  IsActiveMember   10000 non-null  int64  \n",
      " 12  EstimatedSalary  10000 non-null  float64\n",
      " 13  Exited           10000 non-null  int64  \n",
      "dtypes: float64(2), int64(9), object(3)\n",
      "memory usage: 1.1+ MB\n"
     ]
    }
   ],
   "source": [
    "df.info()"
   ]
  },
  {
   "cell_type": "code",
   "execution_count": 6,
   "metadata": {
    "execution": {
     "iopub.execute_input": "2024-12-08T16:01:46.881103Z",
     "iopub.status.busy": "2024-12-08T16:01:46.880619Z",
     "iopub.status.idle": "2024-12-08T16:01:46.896628Z",
     "shell.execute_reply": "2024-12-08T16:01:46.895277Z",
     "shell.execute_reply.started": "2024-12-08T16:01:46.881055Z"
    },
    "trusted": true
   },
   "outputs": [
    {
     "data": {
      "text/plain": [
       "np.int64(0)"
      ]
     },
     "execution_count": 6,
     "metadata": {},
     "output_type": "execute_result"
    }
   ],
   "source": [
    "df.duplicated().sum()"
   ]
  },
  {
   "cell_type": "code",
   "execution_count": 7,
   "metadata": {
    "execution": {
     "iopub.execute_input": "2024-12-08T16:02:19.383116Z",
     "iopub.status.busy": "2024-12-08T16:02:19.382704Z",
     "iopub.status.idle": "2024-12-08T16:02:19.393491Z",
     "shell.execute_reply": "2024-12-08T16:02:19.392249Z",
     "shell.execute_reply.started": "2024-12-08T16:02:19.383079Z"
    },
    "trusted": true
   },
   "outputs": [
    {
     "data": {
      "text/plain": [
       "Exited\n",
       "0    7963\n",
       "1    2037\n",
       "Name: count, dtype: int64"
      ]
     },
     "execution_count": 7,
     "metadata": {},
     "output_type": "execute_result"
    }
   ],
   "source": [
    "df['Exited'].value_counts()"
   ]
  },
  {
   "cell_type": "code",
   "execution_count": 8,
   "metadata": {
    "execution": {
     "iopub.execute_input": "2024-12-08T16:02:48.898610Z",
     "iopub.status.busy": "2024-12-08T16:02:48.898211Z",
     "iopub.status.idle": "2024-12-08T16:02:48.907903Z",
     "shell.execute_reply": "2024-12-08T16:02:48.906602Z",
     "shell.execute_reply.started": "2024-12-08T16:02:48.898576Z"
    },
    "trusted": true
   },
   "outputs": [
    {
     "data": {
      "text/plain": [
       "Geography\n",
       "France     5014\n",
       "Germany    2509\n",
       "Spain      2477\n",
       "Name: count, dtype: int64"
      ]
     },
     "execution_count": 8,
     "metadata": {},
     "output_type": "execute_result"
    }
   ],
   "source": [
    "df['Geography'].value_counts()"
   ]
  },
  {
   "cell_type": "code",
   "execution_count": 9,
   "metadata": {
    "execution": {
     "iopub.execute_input": "2024-12-08T16:04:51.023866Z",
     "iopub.status.busy": "2024-12-08T16:04:51.023483Z",
     "iopub.status.idle": "2024-12-08T16:04:51.034418Z",
     "shell.execute_reply": "2024-12-08T16:04:51.032994Z",
     "shell.execute_reply.started": "2024-12-08T16:04:51.023833Z"
    },
    "trusted": true
   },
   "outputs": [],
   "source": [
    "df.drop(columns=['RowNumber','CustomerId', 'Surname'], inplace=True)"
   ]
  },
  {
   "cell_type": "code",
   "execution_count": 10,
   "metadata": {
    "execution": {
     "iopub.execute_input": "2024-12-08T16:05:03.023501Z",
     "iopub.status.busy": "2024-12-08T16:05:03.023109Z",
     "iopub.status.idle": "2024-12-08T16:05:03.037733Z",
     "shell.execute_reply": "2024-12-08T16:05:03.036850Z",
     "shell.execute_reply.started": "2024-12-08T16:05:03.023466Z"
    },
    "trusted": true
   },
   "outputs": [
    {
     "data": {
      "text/html": [
       "<div>\n",
       "<style scoped>\n",
       "    .dataframe tbody tr th:only-of-type {\n",
       "        vertical-align: middle;\n",
       "    }\n",
       "\n",
       "    .dataframe tbody tr th {\n",
       "        vertical-align: top;\n",
       "    }\n",
       "\n",
       "    .dataframe thead th {\n",
       "        text-align: right;\n",
       "    }\n",
       "</style>\n",
       "<table border=\"1\" class=\"dataframe\">\n",
       "  <thead>\n",
       "    <tr style=\"text-align: right;\">\n",
       "      <th></th>\n",
       "      <th>CreditScore</th>\n",
       "      <th>Geography</th>\n",
       "      <th>Gender</th>\n",
       "      <th>Age</th>\n",
       "      <th>Tenure</th>\n",
       "      <th>Balance</th>\n",
       "      <th>NumOfProducts</th>\n",
       "      <th>HasCrCard</th>\n",
       "      <th>IsActiveMember</th>\n",
       "      <th>EstimatedSalary</th>\n",
       "      <th>Exited</th>\n",
       "    </tr>\n",
       "  </thead>\n",
       "  <tbody>\n",
       "    <tr>\n",
       "      <th>0</th>\n",
       "      <td>619</td>\n",
       "      <td>France</td>\n",
       "      <td>Female</td>\n",
       "      <td>42</td>\n",
       "      <td>2</td>\n",
       "      <td>0.00</td>\n",
       "      <td>1</td>\n",
       "      <td>1</td>\n",
       "      <td>1</td>\n",
       "      <td>101348.88</td>\n",
       "      <td>1</td>\n",
       "    </tr>\n",
       "    <tr>\n",
       "      <th>1</th>\n",
       "      <td>608</td>\n",
       "      <td>Spain</td>\n",
       "      <td>Female</td>\n",
       "      <td>41</td>\n",
       "      <td>1</td>\n",
       "      <td>83807.86</td>\n",
       "      <td>1</td>\n",
       "      <td>0</td>\n",
       "      <td>1</td>\n",
       "      <td>112542.58</td>\n",
       "      <td>0</td>\n",
       "    </tr>\n",
       "    <tr>\n",
       "      <th>2</th>\n",
       "      <td>502</td>\n",
       "      <td>France</td>\n",
       "      <td>Female</td>\n",
       "      <td>42</td>\n",
       "      <td>8</td>\n",
       "      <td>159660.80</td>\n",
       "      <td>3</td>\n",
       "      <td>1</td>\n",
       "      <td>0</td>\n",
       "      <td>113931.57</td>\n",
       "      <td>1</td>\n",
       "    </tr>\n",
       "    <tr>\n",
       "      <th>3</th>\n",
       "      <td>699</td>\n",
       "      <td>France</td>\n",
       "      <td>Female</td>\n",
       "      <td>39</td>\n",
       "      <td>1</td>\n",
       "      <td>0.00</td>\n",
       "      <td>2</td>\n",
       "      <td>0</td>\n",
       "      <td>0</td>\n",
       "      <td>93826.63</td>\n",
       "      <td>0</td>\n",
       "    </tr>\n",
       "    <tr>\n",
       "      <th>4</th>\n",
       "      <td>850</td>\n",
       "      <td>Spain</td>\n",
       "      <td>Female</td>\n",
       "      <td>43</td>\n",
       "      <td>2</td>\n",
       "      <td>125510.82</td>\n",
       "      <td>1</td>\n",
       "      <td>1</td>\n",
       "      <td>1</td>\n",
       "      <td>79084.10</td>\n",
       "      <td>0</td>\n",
       "    </tr>\n",
       "  </tbody>\n",
       "</table>\n",
       "</div>"
      ],
      "text/plain": [
       "   CreditScore Geography  Gender  Age  Tenure    Balance  NumOfProducts  \\\n",
       "0          619    France  Female   42       2       0.00              1   \n",
       "1          608     Spain  Female   41       1   83807.86              1   \n",
       "2          502    France  Female   42       8  159660.80              3   \n",
       "3          699    France  Female   39       1       0.00              2   \n",
       "4          850     Spain  Female   43       2  125510.82              1   \n",
       "\n",
       "   HasCrCard  IsActiveMember  EstimatedSalary  Exited  \n",
       "0          1               1        101348.88       1  \n",
       "1          0               1        112542.58       0  \n",
       "2          1               0        113931.57       1  \n",
       "3          0               0         93826.63       0  \n",
       "4          1               1         79084.10       0  "
      ]
     },
     "execution_count": 10,
     "metadata": {},
     "output_type": "execute_result"
    }
   ],
   "source": [
    "df.head()"
   ]
  },
  {
   "cell_type": "code",
   "execution_count": 11,
   "metadata": {
    "execution": {
     "iopub.execute_input": "2024-12-08T16:14:51.065235Z",
     "iopub.status.busy": "2024-12-08T16:14:51.064852Z",
     "iopub.status.idle": "2024-12-08T16:14:51.077131Z",
     "shell.execute_reply": "2024-12-08T16:14:51.075951Z",
     "shell.execute_reply.started": "2024-12-08T16:14:51.065203Z"
    },
    "trusted": true
   },
   "outputs": [],
   "source": [
    "\"\"\"We can't keep categorical_data, we have to make it boolean type.\"\"\"\n",
    "df = pd.get_dummies(df, columns=['Geography','Gender'], drop_first=True)"
   ]
  },
  {
   "cell_type": "code",
   "execution_count": 12,
   "metadata": {
    "execution": {
     "iopub.execute_input": "2024-12-08T16:17:41.406602Z",
     "iopub.status.busy": "2024-12-08T16:17:41.406203Z",
     "iopub.status.idle": "2024-12-08T16:17:41.420867Z",
     "shell.execute_reply": "2024-12-08T16:17:41.419924Z",
     "shell.execute_reply.started": "2024-12-08T16:17:41.406570Z"
    },
    "trusted": true
   },
   "outputs": [],
   "source": [
    "\"\"\"While working with neural networks, properly scale the data as unscaled data leads to slow and incorrect convergence.\"\"\"\n",
    "from sklearn.model_selection import train_test_split\n",
    "X = df.drop(columns=['Exited'])\n",
    "y=df['Exited']\n",
    "X_train, X_test, y_train, y_test = train_test_split(X, y, test_size=0.2, random_state=1)"
   ]
  },
  {
   "cell_type": "code",
   "execution_count": 13,
   "metadata": {
    "execution": {
     "iopub.execute_input": "2024-12-08T16:17:56.642395Z",
     "iopub.status.busy": "2024-12-08T16:17:56.641990Z",
     "iopub.status.idle": "2024-12-08T16:17:56.648877Z",
     "shell.execute_reply": "2024-12-08T16:17:56.647923Z",
     "shell.execute_reply.started": "2024-12-08T16:17:56.642361Z"
    },
    "trusted": true
   },
   "outputs": [
    {
     "data": {
      "text/plain": [
       "(8000, 11)"
      ]
     },
     "execution_count": 13,
     "metadata": {},
     "output_type": "execute_result"
    }
   ],
   "source": [
    "X_train.shape"
   ]
  },
  {
   "cell_type": "code",
   "execution_count": 14,
   "metadata": {
    "execution": {
     "iopub.execute_input": "2024-12-08T16:19:33.466145Z",
     "iopub.status.busy": "2024-12-08T16:19:33.465196Z",
     "iopub.status.idle": "2024-12-08T16:19:33.488871Z",
     "shell.execute_reply": "2024-12-08T16:19:33.487458Z",
     "shell.execute_reply.started": "2024-12-08T16:19:33.466102Z"
    },
    "trusted": true
   },
   "outputs": [],
   "source": [
    "from sklearn.preprocessing import StandardScaler\n",
    "scaler = StandardScaler()\n",
    "X_train_scaled = scaler.fit_transform(X_train)\n",
    "X_test_scaled = scaler.transform(X_test)"
   ]
  },
  {
   "cell_type": "code",
   "execution_count": 15,
   "metadata": {
    "execution": {
     "iopub.execute_input": "2024-12-08T16:19:40.752982Z",
     "iopub.status.busy": "2024-12-08T16:19:40.752610Z",
     "iopub.status.idle": "2024-12-08T16:19:40.761557Z",
     "shell.execute_reply": "2024-12-08T16:19:40.760038Z",
     "shell.execute_reply.started": "2024-12-08T16:19:40.752952Z"
    },
    "trusted": true
   },
   "outputs": [
    {
     "data": {
      "text/plain": [
       "array([[-0.23082038, -0.94449979, -0.70174202, ...,  1.71490137,\n",
       "        -0.57273139,  0.91509065],\n",
       "       [-0.25150912, -0.94449979, -0.35520275, ..., -0.58312392,\n",
       "        -0.57273139, -1.09278791],\n",
       "       [-0.3963303 ,  0.77498705,  0.33787579, ...,  1.71490137,\n",
       "        -0.57273139, -1.09278791],\n",
       "       ...,\n",
       "       [ 0.22433188,  0.58393295,  1.3774936 , ..., -0.58312392,\n",
       "        -0.57273139, -1.09278791],\n",
       "       [ 0.13123255,  0.01077067,  1.03095433, ..., -0.58312392,\n",
       "        -0.57273139, -1.09278791],\n",
       "       [ 1.1656695 ,  0.29735181,  0.33787579, ...,  1.71490137,\n",
       "        -0.57273139,  0.91509065]])"
      ]
     },
     "execution_count": 15,
     "metadata": {},
     "output_type": "execute_result"
    }
   ],
   "source": [
    "X_train_scaled"
   ]
  },
  {
   "cell_type": "code",
   "execution_count": 16,
   "metadata": {
    "execution": {
     "iopub.execute_input": "2024-12-08T16:20:41.264589Z",
     "iopub.status.busy": "2024-12-08T16:20:41.264203Z",
     "iopub.status.idle": "2024-12-08T16:20:54.730049Z",
     "shell.execute_reply": "2024-12-08T16:20:54.729044Z",
     "shell.execute_reply.started": "2024-12-08T16:20:41.264557Z"
    },
    "trusted": true
   },
   "outputs": [],
   "source": [
    "import tensorflow\n",
    "from tensorflow import keras\n",
    "from tensorflow.keras import Sequential\n",
    "from tensorflow.keras.layers import Dense"
   ]
  },
  {
   "cell_type": "code",
   "execution_count": 17,
   "metadata": {
    "execution": {
     "iopub.execute_input": "2024-12-08T16:47:24.490370Z",
     "iopub.status.busy": "2024-12-08T16:47:24.489947Z",
     "iopub.status.idle": "2024-12-08T16:47:24.518267Z",
     "shell.execute_reply": "2024-12-08T16:47:24.517084Z",
     "shell.execute_reply.started": "2024-12-08T16:47:24.490318Z"
    },
    "trusted": true
   },
   "outputs": [
    {
     "name": "stderr",
     "output_type": "stream",
     "text": [
      "C:\\Users\\q\\AppData\\Roaming\\Python\\Python311\\site-packages\\keras\\src\\layers\\core\\dense.py:87: UserWarning: Do not pass an `input_shape`/`input_dim` argument to a layer. When using Sequential models, prefer using an `Input(shape)` object as the first layer in the model instead.\n",
      "  super().__init__(activity_regularizer=activity_regularizer, **kwargs)\n"
     ]
    }
   ],
   "source": [
    "model = Sequential()\n",
    "\"\"\"Input, Hidden, Output, all 1 layers\n",
    "Dense Attribute create dense layers\n",
    "\"\"\"\n",
    "model.add(Dense(3,activation='sigmoid', input_dim=11))#creating 1st layer, so input dimension are 11, meaning input from previous layers and 3 here means it will have 3 neurons, thereby 3 outputs, activation function is sigmoid\n",
    "model.add(Dense(1, activation='sigmoid')) #Creating Output Layer, with 1 output as 1 neuron is present"
   ]
  },
  {
   "cell_type": "code",
   "execution_count": 18,
   "metadata": {
    "execution": {
     "iopub.execute_input": "2024-12-08T16:27:52.863343Z",
     "iopub.status.busy": "2024-12-08T16:27:52.862794Z",
     "iopub.status.idle": "2024-12-08T16:27:52.888025Z",
     "shell.execute_reply": "2024-12-08T16:27:52.886317Z",
     "shell.execute_reply.started": "2024-12-08T16:27:52.863303Z"
    },
    "trusted": true
   },
   "outputs": [
    {
     "data": {
      "text/html": [
       "<pre style=\"white-space:pre;overflow-x:auto;line-height:normal;font-family:Menlo,'DejaVu Sans Mono',consolas,'Courier New',monospace\"><span style=\"font-weight: bold\">Model: \"sequential\"</span>\n",
       "</pre>\n"
      ],
      "text/plain": [
       "\u001b[1mModel: \"sequential\"\u001b[0m\n"
      ]
     },
     "metadata": {},
     "output_type": "display_data"
    },
    {
     "data": {
      "text/html": [
       "<pre style=\"white-space:pre;overflow-x:auto;line-height:normal;font-family:Menlo,'DejaVu Sans Mono',consolas,'Courier New',monospace\">┏━━━━━━━━━━━━━━━━━━━━━━━━━━━━━━━━━┳━━━━━━━━━━━━━━━━━━━━━━━━┳━━━━━━━━━━━━━━━┓\n",
       "┃<span style=\"font-weight: bold\"> Layer (type)                    </span>┃<span style=\"font-weight: bold\"> Output Shape           </span>┃<span style=\"font-weight: bold\">       Param # </span>┃\n",
       "┡━━━━━━━━━━━━━━━━━━━━━━━━━━━━━━━━━╇━━━━━━━━━━━━━━━━━━━━━━━━╇━━━━━━━━━━━━━━━┩\n",
       "│ dense (<span style=\"color: #0087ff; text-decoration-color: #0087ff\">Dense</span>)                   │ (<span style=\"color: #00d7ff; text-decoration-color: #00d7ff\">None</span>, <span style=\"color: #00af00; text-decoration-color: #00af00\">3</span>)              │            <span style=\"color: #00af00; text-decoration-color: #00af00\">36</span> │\n",
       "├─────────────────────────────────┼────────────────────────┼───────────────┤\n",
       "│ dense_1 (<span style=\"color: #0087ff; text-decoration-color: #0087ff\">Dense</span>)                 │ (<span style=\"color: #00d7ff; text-decoration-color: #00d7ff\">None</span>, <span style=\"color: #00af00; text-decoration-color: #00af00\">1</span>)              │             <span style=\"color: #00af00; text-decoration-color: #00af00\">4</span> │\n",
       "└─────────────────────────────────┴────────────────────────┴───────────────┘\n",
       "</pre>\n"
      ],
      "text/plain": [
       "┏━━━━━━━━━━━━━━━━━━━━━━━━━━━━━━━━━┳━━━━━━━━━━━━━━━━━━━━━━━━┳━━━━━━━━━━━━━━━┓\n",
       "┃\u001b[1m \u001b[0m\u001b[1mLayer (type)                   \u001b[0m\u001b[1m \u001b[0m┃\u001b[1m \u001b[0m\u001b[1mOutput Shape          \u001b[0m\u001b[1m \u001b[0m┃\u001b[1m \u001b[0m\u001b[1m      Param #\u001b[0m\u001b[1m \u001b[0m┃\n",
       "┡━━━━━━━━━━━━━━━━━━━━━━━━━━━━━━━━━╇━━━━━━━━━━━━━━━━━━━━━━━━╇━━━━━━━━━━━━━━━┩\n",
       "│ dense (\u001b[38;5;33mDense\u001b[0m)                   │ (\u001b[38;5;45mNone\u001b[0m, \u001b[38;5;34m3\u001b[0m)              │            \u001b[38;5;34m36\u001b[0m │\n",
       "├─────────────────────────────────┼────────────────────────┼───────────────┤\n",
       "│ dense_1 (\u001b[38;5;33mDense\u001b[0m)                 │ (\u001b[38;5;45mNone\u001b[0m, \u001b[38;5;34m1\u001b[0m)              │             \u001b[38;5;34m4\u001b[0m │\n",
       "└─────────────────────────────────┴────────────────────────┴───────────────┘\n"
      ]
     },
     "metadata": {},
     "output_type": "display_data"
    },
    {
     "data": {
      "text/html": [
       "<pre style=\"white-space:pre;overflow-x:auto;line-height:normal;font-family:Menlo,'DejaVu Sans Mono',consolas,'Courier New',monospace\"><span style=\"font-weight: bold\"> Total params: </span><span style=\"color: #00af00; text-decoration-color: #00af00\">40</span> (160.00 B)\n",
       "</pre>\n"
      ],
      "text/plain": [
       "\u001b[1m Total params: \u001b[0m\u001b[38;5;34m40\u001b[0m (160.00 B)\n"
      ]
     },
     "metadata": {},
     "output_type": "display_data"
    },
    {
     "data": {
      "text/html": [
       "<pre style=\"white-space:pre;overflow-x:auto;line-height:normal;font-family:Menlo,'DejaVu Sans Mono',consolas,'Courier New',monospace\"><span style=\"font-weight: bold\"> Trainable params: </span><span style=\"color: #00af00; text-decoration-color: #00af00\">40</span> (160.00 B)\n",
       "</pre>\n"
      ],
      "text/plain": [
       "\u001b[1m Trainable params: \u001b[0m\u001b[38;5;34m40\u001b[0m (160.00 B)\n"
      ]
     },
     "metadata": {},
     "output_type": "display_data"
    },
    {
     "data": {
      "text/html": [
       "<pre style=\"white-space:pre;overflow-x:auto;line-height:normal;font-family:Menlo,'DejaVu Sans Mono',consolas,'Courier New',monospace\"><span style=\"font-weight: bold\"> Non-trainable params: </span><span style=\"color: #00af00; text-decoration-color: #00af00\">0</span> (0.00 B)\n",
       "</pre>\n"
      ],
      "text/plain": [
       "\u001b[1m Non-trainable params: \u001b[0m\u001b[38;5;34m0\u001b[0m (0.00 B)\n"
      ]
     },
     "metadata": {},
     "output_type": "display_data"
    }
   ],
   "source": [
    "model.summary()"
   ]
  },
  {
   "cell_type": "code",
   "execution_count": 19,
   "metadata": {
    "execution": {
     "iopub.execute_input": "2024-12-08T16:58:28.482052Z",
     "iopub.status.busy": "2024-12-08T16:58:28.481676Z",
     "iopub.status.idle": "2024-12-08T16:58:28.492161Z",
     "shell.execute_reply": "2024-12-08T16:58:28.491246Z",
     "shell.execute_reply.started": "2024-12-08T16:58:28.482022Z"
    },
    "trusted": true
   },
   "outputs": [],
   "source": [
    "\"\"\"While Compiling model, optimizer, loss function and other necessary details is to be provided\"\"\"\n",
    "model.compile(loss='binary_crossentropy', optimizer='Adam', metrics=['accuracy']) #binarycrossentropy or logloss as lossfunction, as we have to predict Exited 0 or 1, and optimizer Adam generally performs well"
   ]
  },
  {
   "cell_type": "code",
   "execution_count": 20,
   "metadata": {
    "execution": {
     "iopub.execute_input": "2024-12-08T16:58:30.836003Z",
     "iopub.status.busy": "2024-12-08T16:58:30.835591Z",
     "iopub.status.idle": "2024-12-08T16:59:07.458266Z",
     "shell.execute_reply": "2024-12-08T16:59:07.457042Z",
     "shell.execute_reply.started": "2024-12-08T16:58:30.835967Z"
    },
    "trusted": true
   },
   "outputs": [
    {
     "name": "stdout",
     "output_type": "stream",
     "text": [
      "Epoch 1/100\n",
      "\u001b[1m200/200\u001b[0m \u001b[32m━━━━━━━━━━━━━━━━━━━━\u001b[0m\u001b[37m\u001b[0m \u001b[1m1s\u001b[0m 2ms/step - accuracy: 0.7956 - loss: 0.5278 - val_accuracy: 0.7975 - val_loss: 0.4940\n",
      "Epoch 2/100\n",
      "\u001b[1m200/200\u001b[0m \u001b[32m━━━━━━━━━━━━━━━━━━━━\u001b[0m\u001b[37m\u001b[0m \u001b[1m0s\u001b[0m 1ms/step - accuracy: 0.7985 - loss: 0.4863 - val_accuracy: 0.7975 - val_loss: 0.4744\n",
      "Epoch 3/100\n",
      "\u001b[1m200/200\u001b[0m \u001b[32m━━━━━━━━━━━━━━━━━━━━\u001b[0m\u001b[37m\u001b[0m \u001b[1m0s\u001b[0m 1ms/step - accuracy: 0.7895 - loss: 0.4783 - val_accuracy: 0.7975 - val_loss: 0.4635\n",
      "Epoch 4/100\n",
      "\u001b[1m200/200\u001b[0m \u001b[32m━━━━━━━━━━━━━━━━━━━━\u001b[0m\u001b[37m\u001b[0m \u001b[1m0s\u001b[0m 1ms/step - accuracy: 0.7995 - loss: 0.4524 - val_accuracy: 0.7975 - val_loss: 0.4557\n",
      "Epoch 5/100\n",
      "\u001b[1m200/200\u001b[0m \u001b[32m━━━━━━━━━━━━━━━━━━━━\u001b[0m\u001b[37m\u001b[0m \u001b[1m0s\u001b[0m 1ms/step - accuracy: 0.8009 - loss: 0.4500 - val_accuracy: 0.7975 - val_loss: 0.4498\n",
      "Epoch 6/100\n",
      "\u001b[1m200/200\u001b[0m \u001b[32m━━━━━━━━━━━━━━━━━━━━\u001b[0m\u001b[37m\u001b[0m \u001b[1m0s\u001b[0m 1ms/step - accuracy: 0.7889 - loss: 0.4535 - val_accuracy: 0.7975 - val_loss: 0.4451\n",
      "Epoch 7/100\n",
      "\u001b[1m200/200\u001b[0m \u001b[32m━━━━━━━━━━━━━━━━━━━━\u001b[0m\u001b[37m\u001b[0m \u001b[1m0s\u001b[0m 1ms/step - accuracy: 0.8020 - loss: 0.4295 - val_accuracy: 0.7975 - val_loss: 0.4414\n",
      "Epoch 8/100\n",
      "\u001b[1m200/200\u001b[0m \u001b[32m━━━━━━━━━━━━━━━━━━━━\u001b[0m\u001b[37m\u001b[0m \u001b[1m0s\u001b[0m 1ms/step - accuracy: 0.7944 - loss: 0.4377 - val_accuracy: 0.7975 - val_loss: 0.4385\n",
      "Epoch 9/100\n",
      "\u001b[1m200/200\u001b[0m \u001b[32m━━━━━━━━━━━━━━━━━━━━\u001b[0m\u001b[37m\u001b[0m \u001b[1m0s\u001b[0m 1ms/step - accuracy: 0.7991 - loss: 0.4307 - val_accuracy: 0.7975 - val_loss: 0.4361\n",
      "Epoch 10/100\n",
      "\u001b[1m200/200\u001b[0m \u001b[32m━━━━━━━━━━━━━━━━━━━━\u001b[0m\u001b[37m\u001b[0m \u001b[1m0s\u001b[0m 1ms/step - accuracy: 0.7954 - loss: 0.4291 - val_accuracy: 0.7981 - val_loss: 0.4342\n",
      "Epoch 11/100\n",
      "\u001b[1m200/200\u001b[0m \u001b[32m━━━━━━━━━━━━━━━━━━━━\u001b[0m\u001b[37m\u001b[0m \u001b[1m0s\u001b[0m 1ms/step - accuracy: 0.8057 - loss: 0.4186 - val_accuracy: 0.8000 - val_loss: 0.4327\n",
      "Epoch 12/100\n",
      "\u001b[1m200/200\u001b[0m \u001b[32m━━━━━━━━━━━━━━━━━━━━\u001b[0m\u001b[37m\u001b[0m \u001b[1m0s\u001b[0m 1ms/step - accuracy: 0.7996 - loss: 0.4279 - val_accuracy: 0.8031 - val_loss: 0.4314\n",
      "Epoch 13/100\n",
      "\u001b[1m200/200\u001b[0m \u001b[32m━━━━━━━━━━━━━━━━━━━━\u001b[0m\u001b[37m\u001b[0m \u001b[1m0s\u001b[0m 1ms/step - accuracy: 0.8059 - loss: 0.4195 - val_accuracy: 0.8069 - val_loss: 0.4303\n",
      "Epoch 14/100\n",
      "\u001b[1m200/200\u001b[0m \u001b[32m━━━━━━━━━━━━━━━━━━━━\u001b[0m\u001b[37m\u001b[0m \u001b[1m0s\u001b[0m 1ms/step - accuracy: 0.8099 - loss: 0.4249 - val_accuracy: 0.8094 - val_loss: 0.4295\n",
      "Epoch 15/100\n",
      "\u001b[1m200/200\u001b[0m \u001b[32m━━━━━━━━━━━━━━━━━━━━\u001b[0m\u001b[37m\u001b[0m \u001b[1m0s\u001b[0m 1ms/step - accuracy: 0.8050 - loss: 0.4305 - val_accuracy: 0.8100 - val_loss: 0.4286\n",
      "Epoch 16/100\n",
      "\u001b[1m200/200\u001b[0m \u001b[32m━━━━━━━━━━━━━━━━━━━━\u001b[0m\u001b[37m\u001b[0m \u001b[1m0s\u001b[0m 2ms/step - accuracy: 0.8095 - loss: 0.4247 - val_accuracy: 0.8094 - val_loss: 0.4280\n",
      "Epoch 17/100\n",
      "\u001b[1m200/200\u001b[0m \u001b[32m━━━━━━━━━━━━━━━━━━━━\u001b[0m\u001b[37m\u001b[0m \u001b[1m0s\u001b[0m 2ms/step - accuracy: 0.8057 - loss: 0.4272 - val_accuracy: 0.8094 - val_loss: 0.4273\n",
      "Epoch 18/100\n",
      "\u001b[1m200/200\u001b[0m \u001b[32m━━━━━━━━━━━━━━━━━━━━\u001b[0m\u001b[37m\u001b[0m \u001b[1m0s\u001b[0m 2ms/step - accuracy: 0.8133 - loss: 0.4252 - val_accuracy: 0.8119 - val_loss: 0.4266\n",
      "Epoch 19/100\n",
      "\u001b[1m200/200\u001b[0m \u001b[32m━━━━━━━━━━━━━━━━━━━━\u001b[0m\u001b[37m\u001b[0m \u001b[1m0s\u001b[0m 1ms/step - accuracy: 0.8160 - loss: 0.4198 - val_accuracy: 0.8106 - val_loss: 0.4260\n",
      "Epoch 20/100\n",
      "\u001b[1m200/200\u001b[0m \u001b[32m━━━━━━━━━━━━━━━━━━━━\u001b[0m\u001b[37m\u001b[0m \u001b[1m0s\u001b[0m 2ms/step - accuracy: 0.8286 - loss: 0.4123 - val_accuracy: 0.8106 - val_loss: 0.4254\n",
      "Epoch 21/100\n",
      "\u001b[1m200/200\u001b[0m \u001b[32m━━━━━━━━━━━━━━━━━━━━\u001b[0m\u001b[37m\u001b[0m \u001b[1m0s\u001b[0m 2ms/step - accuracy: 0.8192 - loss: 0.4127 - val_accuracy: 0.8119 - val_loss: 0.4248\n",
      "Epoch 22/100\n",
      "\u001b[1m200/200\u001b[0m \u001b[32m━━━━━━━━━━━━━━━━━━━━\u001b[0m\u001b[37m\u001b[0m \u001b[1m1s\u001b[0m 2ms/step - accuracy: 0.8141 - loss: 0.4169 - val_accuracy: 0.8131 - val_loss: 0.4243\n",
      "Epoch 23/100\n",
      "\u001b[1m200/200\u001b[0m \u001b[32m━━━━━━━━━━━━━━━━━━━━\u001b[0m\u001b[37m\u001b[0m \u001b[1m0s\u001b[0m 2ms/step - accuracy: 0.8220 - loss: 0.4128 - val_accuracy: 0.8150 - val_loss: 0.4236\n",
      "Epoch 24/100\n",
      "\u001b[1m200/200\u001b[0m \u001b[32m━━━━━━━━━━━━━━━━━━━━\u001b[0m\u001b[37m\u001b[0m \u001b[1m0s\u001b[0m 2ms/step - accuracy: 0.8262 - loss: 0.4148 - val_accuracy: 0.8156 - val_loss: 0.4231\n",
      "Epoch 25/100\n",
      "\u001b[1m200/200\u001b[0m \u001b[32m━━━━━━━━━━━━━━━━━━━━\u001b[0m\u001b[37m\u001b[0m \u001b[1m0s\u001b[0m 2ms/step - accuracy: 0.8136 - loss: 0.4320 - val_accuracy: 0.8150 - val_loss: 0.4226\n",
      "Epoch 26/100\n",
      "\u001b[1m200/200\u001b[0m \u001b[32m━━━━━━━━━━━━━━━━━━━━\u001b[0m\u001b[37m\u001b[0m \u001b[1m0s\u001b[0m 2ms/step - accuracy: 0.8239 - loss: 0.4141 - val_accuracy: 0.8175 - val_loss: 0.4220\n",
      "Epoch 27/100\n",
      "\u001b[1m200/200\u001b[0m \u001b[32m━━━━━━━━━━━━━━━━━━━━\u001b[0m\u001b[37m\u001b[0m \u001b[1m0s\u001b[0m 2ms/step - accuracy: 0.8184 - loss: 0.4255 - val_accuracy: 0.8194 - val_loss: 0.4216\n",
      "Epoch 28/100\n",
      "\u001b[1m200/200\u001b[0m \u001b[32m━━━━━━━━━━━━━━━━━━━━\u001b[0m\u001b[37m\u001b[0m \u001b[1m0s\u001b[0m 2ms/step - accuracy: 0.8143 - loss: 0.4321 - val_accuracy: 0.8181 - val_loss: 0.4212\n",
      "Epoch 29/100\n",
      "\u001b[1m200/200\u001b[0m \u001b[32m━━━━━━━━━━━━━━━━━━━━\u001b[0m\u001b[37m\u001b[0m \u001b[1m0s\u001b[0m 1ms/step - accuracy: 0.8226 - loss: 0.4205 - val_accuracy: 0.8206 - val_loss: 0.4206\n",
      "Epoch 30/100\n",
      "\u001b[1m200/200\u001b[0m \u001b[32m━━━━━━━━━━━━━━━━━━━━\u001b[0m\u001b[37m\u001b[0m \u001b[1m0s\u001b[0m 2ms/step - accuracy: 0.8292 - loss: 0.4085 - val_accuracy: 0.8206 - val_loss: 0.4201\n",
      "Epoch 31/100\n",
      "\u001b[1m200/200\u001b[0m \u001b[32m━━━━━━━━━━━━━━━━━━━━\u001b[0m\u001b[37m\u001b[0m \u001b[1m0s\u001b[0m 2ms/step - accuracy: 0.8257 - loss: 0.4151 - val_accuracy: 0.8206 - val_loss: 0.4197\n",
      "Epoch 32/100\n",
      "\u001b[1m200/200\u001b[0m \u001b[32m━━━━━━━━━━━━━━━━━━━━\u001b[0m\u001b[37m\u001b[0m \u001b[1m0s\u001b[0m 2ms/step - accuracy: 0.8286 - loss: 0.4089 - val_accuracy: 0.8206 - val_loss: 0.4192\n",
      "Epoch 33/100\n",
      "\u001b[1m200/200\u001b[0m \u001b[32m━━━━━━━━━━━━━━━━━━━━\u001b[0m\u001b[37m\u001b[0m \u001b[1m0s\u001b[0m 1ms/step - accuracy: 0.8298 - loss: 0.4059 - val_accuracy: 0.8200 - val_loss: 0.4188\n",
      "Epoch 34/100\n",
      "\u001b[1m200/200\u001b[0m \u001b[32m━━━━━━━━━━━━━━━━━━━━\u001b[0m\u001b[37m\u001b[0m \u001b[1m0s\u001b[0m 1ms/step - accuracy: 0.8293 - loss: 0.4068 - val_accuracy: 0.8200 - val_loss: 0.4184\n",
      "Epoch 35/100\n",
      "\u001b[1m200/200\u001b[0m \u001b[32m━━━━━━━━━━━━━━━━━━━━\u001b[0m\u001b[37m\u001b[0m \u001b[1m0s\u001b[0m 1ms/step - accuracy: 0.8322 - loss: 0.4104 - val_accuracy: 0.8200 - val_loss: 0.4180\n",
      "Epoch 36/100\n",
      "\u001b[1m200/200\u001b[0m \u001b[32m━━━━━━━━━━━━━━━━━━━━\u001b[0m\u001b[37m\u001b[0m \u001b[1m0s\u001b[0m 1ms/step - accuracy: 0.8366 - loss: 0.3922 - val_accuracy: 0.8200 - val_loss: 0.4177\n",
      "Epoch 37/100\n",
      "\u001b[1m200/200\u001b[0m \u001b[32m━━━━━━━━━━━━━━━━━━━━\u001b[0m\u001b[37m\u001b[0m \u001b[1m0s\u001b[0m 1ms/step - accuracy: 0.8250 - loss: 0.4123 - val_accuracy: 0.8200 - val_loss: 0.4174\n",
      "Epoch 38/100\n",
      "\u001b[1m200/200\u001b[0m \u001b[32m━━━━━━━━━━━━━━━━━━━━\u001b[0m\u001b[37m\u001b[0m \u001b[1m0s\u001b[0m 1ms/step - accuracy: 0.8288 - loss: 0.4055 - val_accuracy: 0.8206 - val_loss: 0.4171\n",
      "Epoch 39/100\n",
      "\u001b[1m200/200\u001b[0m \u001b[32m━━━━━━━━━━━━━━━━━━━━\u001b[0m\u001b[37m\u001b[0m \u001b[1m0s\u001b[0m 1ms/step - accuracy: 0.8237 - loss: 0.4156 - val_accuracy: 0.8206 - val_loss: 0.4168\n",
      "Epoch 40/100\n",
      "\u001b[1m200/200\u001b[0m \u001b[32m━━━━━━━━━━━━━━━━━━━━\u001b[0m\u001b[37m\u001b[0m \u001b[1m0s\u001b[0m 1ms/step - accuracy: 0.8288 - loss: 0.4112 - val_accuracy: 0.8225 - val_loss: 0.4164\n",
      "Epoch 41/100\n",
      "\u001b[1m200/200\u001b[0m \u001b[32m━━━━━━━━━━━━━━━━━━━━\u001b[0m\u001b[37m\u001b[0m \u001b[1m0s\u001b[0m 1ms/step - accuracy: 0.8312 - loss: 0.3993 - val_accuracy: 0.8219 - val_loss: 0.4161\n",
      "Epoch 42/100\n",
      "\u001b[1m200/200\u001b[0m \u001b[32m━━━━━━━━━━━━━━━━━━━━\u001b[0m\u001b[37m\u001b[0m \u001b[1m0s\u001b[0m 1ms/step - accuracy: 0.8239 - loss: 0.4206 - val_accuracy: 0.8219 - val_loss: 0.4160\n",
      "Epoch 43/100\n",
      "\u001b[1m200/200\u001b[0m \u001b[32m━━━━━━━━━━━━━━━━━━━━\u001b[0m\u001b[37m\u001b[0m \u001b[1m0s\u001b[0m 1ms/step - accuracy: 0.8403 - loss: 0.4029 - val_accuracy: 0.8225 - val_loss: 0.4157\n",
      "Epoch 44/100\n",
      "\u001b[1m200/200\u001b[0m \u001b[32m━━━━━━━━━━━━━━━━━━━━\u001b[0m\u001b[37m\u001b[0m \u001b[1m0s\u001b[0m 1ms/step - accuracy: 0.8266 - loss: 0.4139 - val_accuracy: 0.8225 - val_loss: 0.4154\n",
      "Epoch 45/100\n",
      "\u001b[1m200/200\u001b[0m \u001b[32m━━━━━━━━━━━━━━━━━━━━\u001b[0m\u001b[37m\u001b[0m \u001b[1m0s\u001b[0m 1ms/step - accuracy: 0.8317 - loss: 0.4099 - val_accuracy: 0.8219 - val_loss: 0.4152\n",
      "Epoch 46/100\n",
      "\u001b[1m200/200\u001b[0m \u001b[32m━━━━━━━━━━━━━━━━━━━━\u001b[0m\u001b[37m\u001b[0m \u001b[1m0s\u001b[0m 1ms/step - accuracy: 0.8307 - loss: 0.4098 - val_accuracy: 0.8213 - val_loss: 0.4149\n",
      "Epoch 47/100\n",
      "\u001b[1m200/200\u001b[0m \u001b[32m━━━━━━━━━━━━━━━━━━━━\u001b[0m\u001b[37m\u001b[0m \u001b[1m0s\u001b[0m 2ms/step - accuracy: 0.8315 - loss: 0.4115 - val_accuracy: 0.8206 - val_loss: 0.4146\n",
      "Epoch 48/100\n",
      "\u001b[1m200/200\u001b[0m \u001b[32m━━━━━━━━━━━━━━━━━━━━\u001b[0m\u001b[37m\u001b[0m \u001b[1m0s\u001b[0m 2ms/step - accuracy: 0.8279 - loss: 0.4160 - val_accuracy: 0.8200 - val_loss: 0.4144\n",
      "Epoch 49/100\n",
      "\u001b[1m200/200\u001b[0m \u001b[32m━━━━━━━━━━━━━━━━━━━━\u001b[0m\u001b[37m\u001b[0m \u001b[1m0s\u001b[0m 1ms/step - accuracy: 0.8341 - loss: 0.4051 - val_accuracy: 0.8188 - val_loss: 0.4142\n",
      "Epoch 50/100\n",
      "\u001b[1m200/200\u001b[0m \u001b[32m━━━━━━━━━━━━━━━━━━━━\u001b[0m\u001b[37m\u001b[0m \u001b[1m0s\u001b[0m 1ms/step - accuracy: 0.8381 - loss: 0.3959 - val_accuracy: 0.8194 - val_loss: 0.4139\n",
      "Epoch 51/100\n",
      "\u001b[1m200/200\u001b[0m \u001b[32m━━━━━━━━━━━━━━━━━━━━\u001b[0m\u001b[37m\u001b[0m \u001b[1m0s\u001b[0m 2ms/step - accuracy: 0.8381 - loss: 0.3980 - val_accuracy: 0.8206 - val_loss: 0.4137\n",
      "Epoch 52/100\n",
      "\u001b[1m200/200\u001b[0m \u001b[32m━━━━━━━━━━━━━━━━━━━━\u001b[0m\u001b[37m\u001b[0m \u001b[1m0s\u001b[0m 1ms/step - accuracy: 0.8323 - loss: 0.4131 - val_accuracy: 0.8206 - val_loss: 0.4135\n",
      "Epoch 53/100\n",
      "\u001b[1m200/200\u001b[0m \u001b[32m━━━━━━━━━━━━━━━━━━━━\u001b[0m\u001b[37m\u001b[0m \u001b[1m0s\u001b[0m 1ms/step - accuracy: 0.8315 - loss: 0.4132 - val_accuracy: 0.8206 - val_loss: 0.4133\n",
      "Epoch 54/100\n",
      "\u001b[1m200/200\u001b[0m \u001b[32m━━━━━━━━━━━━━━━━━━━━\u001b[0m\u001b[37m\u001b[0m \u001b[1m0s\u001b[0m 2ms/step - accuracy: 0.8363 - loss: 0.4037 - val_accuracy: 0.8206 - val_loss: 0.4129\n",
      "Epoch 55/100\n",
      "\u001b[1m200/200\u001b[0m \u001b[32m━━━━━━━━━━━━━━━━━━━━\u001b[0m\u001b[37m\u001b[0m \u001b[1m0s\u001b[0m 2ms/step - accuracy: 0.8347 - loss: 0.4018 - val_accuracy: 0.8206 - val_loss: 0.4128\n",
      "Epoch 56/100\n",
      "\u001b[1m200/200\u001b[0m \u001b[32m━━━━━━━━━━━━━━━━━━━━\u001b[0m\u001b[37m\u001b[0m \u001b[1m0s\u001b[0m 1ms/step - accuracy: 0.8307 - loss: 0.4152 - val_accuracy: 0.8206 - val_loss: 0.4124\n",
      "Epoch 57/100\n",
      "\u001b[1m200/200\u001b[0m \u001b[32m━━━━━━━━━━━━━━━━━━━━\u001b[0m\u001b[37m\u001b[0m \u001b[1m0s\u001b[0m 1ms/step - accuracy: 0.8385 - loss: 0.4035 - val_accuracy: 0.8213 - val_loss: 0.4121\n",
      "Epoch 58/100\n",
      "\u001b[1m200/200\u001b[0m \u001b[32m━━━━━━━━━━━━━━━━━━━━\u001b[0m\u001b[37m\u001b[0m \u001b[1m0s\u001b[0m 1ms/step - accuracy: 0.8373 - loss: 0.3986 - val_accuracy: 0.8225 - val_loss: 0.4116\n",
      "Epoch 59/100\n",
      "\u001b[1m200/200\u001b[0m \u001b[32m━━━━━━━━━━━━━━━━━━━━\u001b[0m\u001b[37m\u001b[0m \u001b[1m0s\u001b[0m 1ms/step - accuracy: 0.8353 - loss: 0.4066 - val_accuracy: 0.8219 - val_loss: 0.4113\n",
      "Epoch 60/100\n",
      "\u001b[1m200/200\u001b[0m \u001b[32m━━━━━━━━━━━━━━━━━━━━\u001b[0m\u001b[37m\u001b[0m \u001b[1m0s\u001b[0m 2ms/step - accuracy: 0.8355 - loss: 0.4003 - val_accuracy: 0.8225 - val_loss: 0.4108\n",
      "Epoch 61/100\n",
      "\u001b[1m200/200\u001b[0m \u001b[32m━━━━━━━━━━━━━━━━━━━━\u001b[0m\u001b[37m\u001b[0m \u001b[1m0s\u001b[0m 1ms/step - accuracy: 0.8341 - loss: 0.4018 - val_accuracy: 0.8225 - val_loss: 0.4103\n",
      "Epoch 62/100\n",
      "\u001b[1m200/200\u001b[0m \u001b[32m━━━━━━━━━━━━━━━━━━━━\u001b[0m\u001b[37m\u001b[0m \u001b[1m0s\u001b[0m 2ms/step - accuracy: 0.8293 - loss: 0.4094 - val_accuracy: 0.8238 - val_loss: 0.4096\n",
      "Epoch 63/100\n",
      "\u001b[1m200/200\u001b[0m \u001b[32m━━━━━━━━━━━━━━━━━━━━\u001b[0m\u001b[37m\u001b[0m \u001b[1m0s\u001b[0m 1ms/step - accuracy: 0.8372 - loss: 0.3969 - val_accuracy: 0.8231 - val_loss: 0.4089\n",
      "Epoch 64/100\n",
      "\u001b[1m200/200\u001b[0m \u001b[32m━━━━━━━━━━━━━━━━━━━━\u001b[0m\u001b[37m\u001b[0m \u001b[1m0s\u001b[0m 1ms/step - accuracy: 0.8353 - loss: 0.3996 - val_accuracy: 0.8244 - val_loss: 0.4081\n",
      "Epoch 65/100\n",
      "\u001b[1m200/200\u001b[0m \u001b[32m━━━━━━━━━━━━━━━━━━━━\u001b[0m\u001b[37m\u001b[0m \u001b[1m0s\u001b[0m 1ms/step - accuracy: 0.8421 - loss: 0.3914 - val_accuracy: 0.8250 - val_loss: 0.4073\n",
      "Epoch 66/100\n",
      "\u001b[1m200/200\u001b[0m \u001b[32m━━━━━━━━━━━━━━━━━━━━\u001b[0m\u001b[37m\u001b[0m \u001b[1m0s\u001b[0m 1ms/step - accuracy: 0.8329 - loss: 0.4051 - val_accuracy: 0.8225 - val_loss: 0.4066\n",
      "Epoch 67/100\n",
      "\u001b[1m200/200\u001b[0m \u001b[32m━━━━━━━━━━━━━━━━━━━━\u001b[0m\u001b[37m\u001b[0m \u001b[1m0s\u001b[0m 1ms/step - accuracy: 0.8417 - loss: 0.3932 - val_accuracy: 0.8225 - val_loss: 0.4056\n",
      "Epoch 68/100\n",
      "\u001b[1m200/200\u001b[0m \u001b[32m━━━━━━━━━━━━━━━━━━━━\u001b[0m\u001b[37m\u001b[0m \u001b[1m0s\u001b[0m 1ms/step - accuracy: 0.8320 - loss: 0.4048 - val_accuracy: 0.8238 - val_loss: 0.4048\n",
      "Epoch 69/100\n",
      "\u001b[1m200/200\u001b[0m \u001b[32m━━━━━━━━━━━━━━━━━━━━\u001b[0m\u001b[37m\u001b[0m \u001b[1m0s\u001b[0m 1ms/step - accuracy: 0.8332 - loss: 0.4054 - val_accuracy: 0.8238 - val_loss: 0.4037\n",
      "Epoch 70/100\n",
      "\u001b[1m200/200\u001b[0m \u001b[32m━━━━━━━━━━━━━━━━━━━━\u001b[0m\u001b[37m\u001b[0m \u001b[1m0s\u001b[0m 2ms/step - accuracy: 0.8395 - loss: 0.3900 - val_accuracy: 0.8256 - val_loss: 0.4028\n",
      "Epoch 71/100\n",
      "\u001b[1m200/200\u001b[0m \u001b[32m━━━━━━━━━━━━━━━━━━━━\u001b[0m\u001b[37m\u001b[0m \u001b[1m0s\u001b[0m 1ms/step - accuracy: 0.8417 - loss: 0.3950 - val_accuracy: 0.8269 - val_loss: 0.4019\n",
      "Epoch 72/100\n",
      "\u001b[1m200/200\u001b[0m \u001b[32m━━━━━━━━━━━━━━━━━━━━\u001b[0m\u001b[37m\u001b[0m \u001b[1m0s\u001b[0m 1ms/step - accuracy: 0.8422 - loss: 0.3856 - val_accuracy: 0.8269 - val_loss: 0.4010\n",
      "Epoch 73/100\n",
      "\u001b[1m200/200\u001b[0m \u001b[32m━━━━━━━━━━━━━━━━━━━━\u001b[0m\u001b[37m\u001b[0m \u001b[1m0s\u001b[0m 1ms/step - accuracy: 0.8375 - loss: 0.3907 - val_accuracy: 0.8256 - val_loss: 0.4002\n",
      "Epoch 74/100\n",
      "\u001b[1m200/200\u001b[0m \u001b[32m━━━━━━━━━━━━━━━━━━━━\u001b[0m\u001b[37m\u001b[0m \u001b[1m0s\u001b[0m 1ms/step - accuracy: 0.8367 - loss: 0.3927 - val_accuracy: 0.8281 - val_loss: 0.3995\n",
      "Epoch 75/100\n",
      "\u001b[1m200/200\u001b[0m \u001b[32m━━━━━━━━━━━━━━━━━━━━\u001b[0m\u001b[37m\u001b[0m \u001b[1m0s\u001b[0m 1ms/step - accuracy: 0.8346 - loss: 0.3917 - val_accuracy: 0.8269 - val_loss: 0.3987\n",
      "Epoch 76/100\n",
      "\u001b[1m200/200\u001b[0m \u001b[32m━━━━━━━━━━━━━━━━━━━━\u001b[0m\u001b[37m\u001b[0m \u001b[1m0s\u001b[0m 1ms/step - accuracy: 0.8452 - loss: 0.3831 - val_accuracy: 0.8281 - val_loss: 0.3980\n",
      "Epoch 77/100\n",
      "\u001b[1m200/200\u001b[0m \u001b[32m━━━━━━━━━━━━━━━━━━━━\u001b[0m\u001b[37m\u001b[0m \u001b[1m0s\u001b[0m 1ms/step - accuracy: 0.8381 - loss: 0.3875 - val_accuracy: 0.8263 - val_loss: 0.3972\n",
      "Epoch 78/100\n",
      "\u001b[1m200/200\u001b[0m \u001b[32m━━━━━━━━━━━━━━━━━━━━\u001b[0m\u001b[37m\u001b[0m \u001b[1m0s\u001b[0m 1ms/step - accuracy: 0.8377 - loss: 0.3843 - val_accuracy: 0.8250 - val_loss: 0.3967\n",
      "Epoch 79/100\n",
      "\u001b[1m200/200\u001b[0m \u001b[32m━━━━━━━━━━━━━━━━━━━━\u001b[0m\u001b[37m\u001b[0m \u001b[1m0s\u001b[0m 1ms/step - accuracy: 0.8294 - loss: 0.3985 - val_accuracy: 0.8238 - val_loss: 0.3961\n",
      "Epoch 80/100\n",
      "\u001b[1m200/200\u001b[0m \u001b[32m━━━━━━━━━━━━━━━━━━━━\u001b[0m\u001b[37m\u001b[0m \u001b[1m0s\u001b[0m 2ms/step - accuracy: 0.8457 - loss: 0.3728 - val_accuracy: 0.8244 - val_loss: 0.3953\n",
      "Epoch 81/100\n",
      "\u001b[1m200/200\u001b[0m \u001b[32m━━━━━━━━━━━━━━━━━━━━\u001b[0m\u001b[37m\u001b[0m \u001b[1m0s\u001b[0m 1ms/step - accuracy: 0.8358 - loss: 0.3849 - val_accuracy: 0.8238 - val_loss: 0.3948\n",
      "Epoch 82/100\n",
      "\u001b[1m200/200\u001b[0m \u001b[32m━━━━━━━━━━━━━━━━━━━━\u001b[0m\u001b[37m\u001b[0m \u001b[1m0s\u001b[0m 1ms/step - accuracy: 0.8373 - loss: 0.3933 - val_accuracy: 0.8250 - val_loss: 0.3942\n",
      "Epoch 83/100\n",
      "\u001b[1m200/200\u001b[0m \u001b[32m━━━━━━━━━━━━━━━━━━━━\u001b[0m\u001b[37m\u001b[0m \u001b[1m0s\u001b[0m 1ms/step - accuracy: 0.8347 - loss: 0.3918 - val_accuracy: 0.8244 - val_loss: 0.3936\n",
      "Epoch 84/100\n",
      "\u001b[1m200/200\u001b[0m \u001b[32m━━━━━━━━━━━━━━━━━━━━\u001b[0m\u001b[37m\u001b[0m \u001b[1m0s\u001b[0m 1ms/step - accuracy: 0.8325 - loss: 0.3961 - val_accuracy: 0.8263 - val_loss: 0.3931\n",
      "Epoch 85/100\n",
      "\u001b[1m200/200\u001b[0m \u001b[32m━━━━━━━━━━━━━━━━━━━━\u001b[0m\u001b[37m\u001b[0m \u001b[1m0s\u001b[0m 1ms/step - accuracy: 0.8322 - loss: 0.3896 - val_accuracy: 0.8256 - val_loss: 0.3926\n",
      "Epoch 86/100\n",
      "\u001b[1m200/200\u001b[0m \u001b[32m━━━━━━━━━━━━━━━━━━━━\u001b[0m\u001b[37m\u001b[0m \u001b[1m0s\u001b[0m 1ms/step - accuracy: 0.8367 - loss: 0.3928 - val_accuracy: 0.8263 - val_loss: 0.3922\n",
      "Epoch 87/100\n",
      "\u001b[1m200/200\u001b[0m \u001b[32m━━━━━━━━━━━━━━━━━━━━\u001b[0m\u001b[37m\u001b[0m \u001b[1m0s\u001b[0m 1ms/step - accuracy: 0.8410 - loss: 0.3754 - val_accuracy: 0.8263 - val_loss: 0.3915\n",
      "Epoch 88/100\n",
      "\u001b[1m200/200\u001b[0m \u001b[32m━━━━━━━━━━━━━━━━━━━━\u001b[0m\u001b[37m\u001b[0m \u001b[1m0s\u001b[0m 1ms/step - accuracy: 0.8355 - loss: 0.3901 - val_accuracy: 0.8256 - val_loss: 0.3911\n",
      "Epoch 89/100\n",
      "\u001b[1m200/200\u001b[0m \u001b[32m━━━━━━━━━━━━━━━━━━━━\u001b[0m\u001b[37m\u001b[0m \u001b[1m0s\u001b[0m 1ms/step - accuracy: 0.8248 - loss: 0.4016 - val_accuracy: 0.8263 - val_loss: 0.3907\n",
      "Epoch 90/100\n",
      "\u001b[1m200/200\u001b[0m \u001b[32m━━━━━━━━━━━━━━━━━━━━\u001b[0m\u001b[37m\u001b[0m \u001b[1m0s\u001b[0m 1ms/step - accuracy: 0.8302 - loss: 0.3914 - val_accuracy: 0.8263 - val_loss: 0.3902\n",
      "Epoch 91/100\n",
      "\u001b[1m200/200\u001b[0m \u001b[32m━━━━━━━━━━━━━━━━━━━━\u001b[0m\u001b[37m\u001b[0m \u001b[1m0s\u001b[0m 1ms/step - accuracy: 0.8365 - loss: 0.3838 - val_accuracy: 0.8256 - val_loss: 0.3898\n",
      "Epoch 92/100\n",
      "\u001b[1m200/200\u001b[0m \u001b[32m━━━━━━━━━━━━━━━━━━━━\u001b[0m\u001b[37m\u001b[0m \u001b[1m0s\u001b[0m 1ms/step - accuracy: 0.8331 - loss: 0.3913 - val_accuracy: 0.8263 - val_loss: 0.3894\n",
      "Epoch 93/100\n",
      "\u001b[1m200/200\u001b[0m \u001b[32m━━━━━━━━━━━━━━━━━━━━\u001b[0m\u001b[37m\u001b[0m \u001b[1m0s\u001b[0m 1ms/step - accuracy: 0.8396 - loss: 0.3762 - val_accuracy: 0.8263 - val_loss: 0.3890\n",
      "Epoch 94/100\n",
      "\u001b[1m200/200\u001b[0m \u001b[32m━━━━━━━━━━━━━━━━━━━━\u001b[0m\u001b[37m\u001b[0m \u001b[1m0s\u001b[0m 1ms/step - accuracy: 0.8343 - loss: 0.3825 - val_accuracy: 0.8263 - val_loss: 0.3886\n",
      "Epoch 95/100\n",
      "\u001b[1m200/200\u001b[0m \u001b[32m━━━━━━━━━━━━━━━━━━━━\u001b[0m\u001b[37m\u001b[0m \u001b[1m0s\u001b[0m 1ms/step - accuracy: 0.8333 - loss: 0.3834 - val_accuracy: 0.8256 - val_loss: 0.3883\n",
      "Epoch 96/100\n",
      "\u001b[1m200/200\u001b[0m \u001b[32m━━━━━━━━━━━━━━━━━━━━\u001b[0m\u001b[37m\u001b[0m \u001b[1m0s\u001b[0m 2ms/step - accuracy: 0.8346 - loss: 0.3775 - val_accuracy: 0.8256 - val_loss: 0.3879\n",
      "Epoch 97/100\n",
      "\u001b[1m200/200\u001b[0m \u001b[32m━━━━━━━━━━━━━━━━━━━━\u001b[0m\u001b[37m\u001b[0m \u001b[1m0s\u001b[0m 1ms/step - accuracy: 0.8299 - loss: 0.3859 - val_accuracy: 0.8263 - val_loss: 0.3875\n",
      "Epoch 98/100\n",
      "\u001b[1m200/200\u001b[0m \u001b[32m━━━━━━━━━━━━━━━━━━━━\u001b[0m\u001b[37m\u001b[0m \u001b[1m0s\u001b[0m 1ms/step - accuracy: 0.8387 - loss: 0.3768 - val_accuracy: 0.8269 - val_loss: 0.3873\n",
      "Epoch 99/100\n",
      "\u001b[1m200/200\u001b[0m \u001b[32m━━━━━━━━━━━━━━━━━━━━\u001b[0m\u001b[37m\u001b[0m \u001b[1m0s\u001b[0m 1ms/step - accuracy: 0.8312 - loss: 0.3889 - val_accuracy: 0.8275 - val_loss: 0.3868\n",
      "Epoch 100/100\n",
      "\u001b[1m200/200\u001b[0m \u001b[32m━━━━━━━━━━━━━━━━━━━━\u001b[0m\u001b[37m\u001b[0m \u001b[1m0s\u001b[0m 1ms/step - accuracy: 0.8383 - loss: 0.3730 - val_accuracy: 0.8275 - val_loss: 0.3866\n"
     ]
    }
   ],
   "source": [
    "#Training neural network, tell how much time it should be trained on same data.\n",
    "history = model.fit(X_train_scaled, y_train, epochs=100, validation_split=0.2) #Validation split means in training also it splits 20% of training data and trains on 80% and tests on remaining 20%, and instantly gives accuracy_score"
   ]
  },
  {
   "cell_type": "code",
   "execution_count": 21,
   "metadata": {
    "execution": {
     "iopub.execute_input": "2024-12-08T16:56:51.145961Z",
     "iopub.status.busy": "2024-12-08T16:56:51.145547Z",
     "iopub.status.idle": "2024-12-08T16:56:51.155059Z",
     "shell.execute_reply": "2024-12-08T16:56:51.153992Z",
     "shell.execute_reply.started": "2024-12-08T16:56:51.145929Z"
    },
    "trusted": true
   },
   "outputs": [
    {
     "data": {
      "text/plain": [
       "[array([[-2.4440603],\n",
       "        [-1.6711473],\n",
       "        [-1.8223891]], dtype=float32),\n",
       " array([1.6787565], dtype=float32)]"
      ]
     },
     "execution_count": 21,
     "metadata": {},
     "output_type": "execute_result"
    }
   ],
   "source": [
    "#To get weights and biases of input layer, first array of weights and second of biases\n",
    "#model.layers[0].get_weights()\n",
    "model.layers[1].get_weights()"
   ]
  },
  {
   "cell_type": "code",
   "execution_count": 22,
   "metadata": {
    "execution": {
     "iopub.execute_input": "2024-12-08T16:56:54.724763Z",
     "iopub.status.busy": "2024-12-08T16:56:54.724333Z",
     "iopub.status.idle": "2024-12-08T16:56:54.930338Z",
     "shell.execute_reply": "2024-12-08T16:56:54.929417Z",
     "shell.execute_reply.started": "2024-12-08T16:56:54.724728Z"
    },
    "trusted": true
   },
   "outputs": [
    {
     "name": "stdout",
     "output_type": "stream",
     "text": [
      "\u001b[1m63/63\u001b[0m \u001b[32m━━━━━━━━━━━━━━━━━━━━\u001b[0m\u001b[37m\u001b[0m \u001b[1m0s\u001b[0m 1ms/step  \n"
     ]
    }
   ],
   "source": [
    "y_log = model.predict(X_test_scaled)"
   ]
  },
  {
   "cell_type": "code",
   "execution_count": 23,
   "metadata": {
    "execution": {
     "iopub.execute_input": "2024-12-08T16:56:59.386611Z",
     "iopub.status.busy": "2024-12-08T16:56:59.386076Z",
     "iopub.status.idle": "2024-12-08T16:56:59.392902Z",
     "shell.execute_reply": "2024-12-08T16:56:59.391701Z",
     "shell.execute_reply.started": "2024-12-08T16:56:59.386560Z"
    },
    "trusted": true
   },
   "outputs": [],
   "source": [
    "\"\"\"The output is between 0 and 1 due to sigmoid, so classify them based on some criteria, you may use ROC(Receiver Operating Characteristic and AUC(Area Under the Curve) for proper analysis of threshold value\"\"\"\n",
    "#Considering 0.5 as threshold value\n",
    "y_pred = np.where(y_log>0.5, 1, 0) #it means where y_log[j]>0.5 , in the corresponding array output 1 and if not then 0."
   ]
  },
  {
   "cell_type": "code",
   "execution_count": 24,
   "metadata": {
    "execution": {
     "iopub.execute_input": "2024-12-08T16:57:01.345816Z",
     "iopub.status.busy": "2024-12-08T16:57:01.345432Z",
     "iopub.status.idle": "2024-12-08T16:57:01.354551Z",
     "shell.execute_reply": "2024-12-08T16:57:01.353437Z",
     "shell.execute_reply.started": "2024-12-08T16:57:01.345780Z"
    },
    "trusted": true
   },
   "outputs": [
    {
     "data": {
      "text/plain": [
       "0.838"
      ]
     },
     "execution_count": 24,
     "metadata": {},
     "output_type": "execute_result"
    }
   ],
   "source": [
    "from sklearn.metrics import accuracy_score\n",
    "accuracy_score(y_test, y_pred)"
   ]
  },
  {
   "cell_type": "code",
   "execution_count": 25,
   "metadata": {
    "execution": {
     "iopub.execute_input": "2024-12-08T16:56:39.505106Z",
     "iopub.status.busy": "2024-12-08T16:56:39.504708Z",
     "iopub.status.idle": "2024-12-08T16:56:39.512999Z",
     "shell.execute_reply": "2024-12-08T16:56:39.511805Z",
     "shell.execute_reply.started": "2024-12-08T16:56:39.505072Z"
    },
    "trusted": true
   },
   "outputs": [
    {
     "data": {
      "text/plain": [
       "'General Ways to improve, accuracy_score\\nIncrease number of epochs\\nActivation function of hidden layers to be kept as sigmoid\\nNumber of nodes of layers, especially hidden layers should be increased\\nNumber of layers should be increased\\nBut, if accuracy_score of training data is increasing and accuracy of validation data stagnates then it is the case of overfitting.\\n'"
      ]
     },
     "execution_count": 25,
     "metadata": {},
     "output_type": "execute_result"
    }
   ],
   "source": [
    "\"\"\"General Ways to improve, accuracy_score\n",
    "Increase number of epochs\n",
    "Activation function of hidden layers to be kept as sigmoid\n",
    "Number of nodes of layers, especially hidden layers should be increased\n",
    "Number of layers should be increased\n",
    "But, if accuracy_score of training data is increasing and accuracy of validation data stagnates then it is the case of overfitting.\n",
    "\"\"\""
   ]
  },
  {
   "cell_type": "code",
   "execution_count": 26,
   "metadata": {
    "execution": {
     "iopub.execute_input": "2024-12-08T17:01:23.887215Z",
     "iopub.status.busy": "2024-12-08T17:01:23.886737Z",
     "iopub.status.idle": "2024-12-08T17:01:23.899809Z",
     "shell.execute_reply": "2024-12-08T17:01:23.898488Z",
     "shell.execute_reply.started": "2024-12-08T17:01:23.887176Z"
    },
    "trusted": true
   },
   "outputs": [
    {
     "data": {
      "text/plain": [
       "{'accuracy': [0.7971875071525574,\n",
       "  0.7971875071525574,\n",
       "  0.7971875071525574,\n",
       "  0.7971875071525574,\n",
       "  0.7971875071525574,\n",
       "  0.7971875071525574,\n",
       "  0.7971875071525574,\n",
       "  0.7971875071525574,\n",
       "  0.7971875071525574,\n",
       "  0.7973437309265137,\n",
       "  0.7981250286102295,\n",
       "  0.801562488079071,\n",
       "  0.8042187690734863,\n",
       "  0.8062499761581421,\n",
       "  0.8089062571525574,\n",
       "  0.8096874952316284,\n",
       "  0.8121874928474426,\n",
       "  0.8137500286102295,\n",
       "  0.8153125047683716,\n",
       "  0.8165624737739563,\n",
       "  0.817187488079071,\n",
       "  0.8178125023841858,\n",
       "  0.8185937404632568,\n",
       "  0.8201562762260437,\n",
       "  0.8207812309265137,\n",
       "  0.8218749761581421,\n",
       "  0.8221874833106995,\n",
       "  0.8231250047683716,\n",
       "  0.8237500190734863,\n",
       "  0.823437511920929,\n",
       "  0.8251562714576721,\n",
       "  0.8256250023841858,\n",
       "  0.8254687786102295,\n",
       "  0.8260937333106995,\n",
       "  0.8256250023841858,\n",
       "  0.8268749713897705,\n",
       "  0.8262500166893005,\n",
       "  0.8265625238418579,\n",
       "  0.8278124928474426,\n",
       "  0.8284375071525574,\n",
       "  0.8278124928474426,\n",
       "  0.8301562666893005,\n",
       "  0.8310937285423279,\n",
       "  0.8314062356948853,\n",
       "  0.8314062356948853,\n",
       "  0.8310937285423279,\n",
       "  0.8315625190734863,\n",
       "  0.832812488079071,\n",
       "  0.8323437571525574,\n",
       "  0.8318750262260437,\n",
       "  0.83203125,\n",
       "  0.832812488079071,\n",
       "  0.8317187428474426,\n",
       "  0.8326562643051147,\n",
       "  0.8329687714576721,\n",
       "  0.8334375023841858,\n",
       "  0.8332812786102295,\n",
       "  0.8324999809265137,\n",
       "  0.8342187404632568,\n",
       "  0.8331249952316284,\n",
       "  0.8329687714576721,\n",
       "  0.8335937261581421,\n",
       "  0.8337500095367432,\n",
       "  0.8348437547683716,\n",
       "  0.8357812762260437,\n",
       "  0.8353124856948853,\n",
       "  0.8356249928474426,\n",
       "  0.8364062309265137,\n",
       "  0.8364062309265137,\n",
       "  0.8359375,\n",
       "  0.8354687690734863,\n",
       "  0.8365625143051147,\n",
       "  0.8376562595367432,\n",
       "  0.8371875286102295,\n",
       "  0.8360937237739563,\n",
       "  0.8354687690734863,\n",
       "  0.8356249928474426,\n",
       "  0.8357812762260437,\n",
       "  0.8356249928474426,\n",
       "  0.8354687690734863,\n",
       "  0.8353124856948853,\n",
       "  0.8343750238418579,\n",
       "  0.8342187404632568,\n",
       "  0.8349999785423279,\n",
       "  0.8339062333106995,\n",
       "  0.8345312476158142,\n",
       "  0.832812488079071,\n",
       "  0.8337500095367432,\n",
       "  0.8346874713897705,\n",
       "  0.8337500095367432,\n",
       "  0.8343750238418579,\n",
       "  0.8337500095367432,\n",
       "  0.8337500095367432,\n",
       "  0.8342187404632568,\n",
       "  0.8348437547683716,\n",
       "  0.8346874713897705,\n",
       "  0.8343750238418579,\n",
       "  0.8354687690734863,\n",
       "  0.8362500071525574,\n",
       "  0.835156261920929],\n",
       " 'loss': [0.5145971775054932,\n",
       "  0.48247650265693665,\n",
       "  0.4663587510585785,\n",
       "  0.45616671442985535,\n",
       "  0.4487742483615875,\n",
       "  0.4431222975254059,\n",
       "  0.43877723813056946,\n",
       "  0.43533965945243835,\n",
       "  0.4326384365558624,\n",
       "  0.4304453134536743,\n",
       "  0.4288069009780884,\n",
       "  0.4273163974285126,\n",
       "  0.4261570870876312,\n",
       "  0.4251662790775299,\n",
       "  0.4242883026599884,\n",
       "  0.4235142767429352,\n",
       "  0.422776997089386,\n",
       "  0.42215001583099365,\n",
       "  0.4214811623096466,\n",
       "  0.4208536148071289,\n",
       "  0.42024195194244385,\n",
       "  0.41960179805755615,\n",
       "  0.41897159814834595,\n",
       "  0.4183872938156128,\n",
       "  0.41782817244529724,\n",
       "  0.41725456714630127,\n",
       "  0.4166530668735504,\n",
       "  0.41620108485221863,\n",
       "  0.4156814515590668,\n",
       "  0.4150913655757904,\n",
       "  0.41460415720939636,\n",
       "  0.41412103176116943,\n",
       "  0.41367343068122864,\n",
       "  0.41323617100715637,\n",
       "  0.4129239022731781,\n",
       "  0.4124089181423187,\n",
       "  0.4120456576347351,\n",
       "  0.4116987884044647,\n",
       "  0.4113217294216156,\n",
       "  0.4109301269054413,\n",
       "  0.41061609983444214,\n",
       "  0.4103417992591858,\n",
       "  0.409964382648468,\n",
       "  0.40971699357032776,\n",
       "  0.4093977212905884,\n",
       "  0.40912529826164246,\n",
       "  0.4088929295539856,\n",
       "  0.40857183933258057,\n",
       "  0.4084186553955078,\n",
       "  0.40811270475387573,\n",
       "  0.4078662395477295,\n",
       "  0.40758490562438965,\n",
       "  0.40739673376083374,\n",
       "  0.40712928771972656,\n",
       "  0.4067998230457306,\n",
       "  0.40646085143089294,\n",
       "  0.4061899483203888,\n",
       "  0.40585100650787354,\n",
       "  0.4054049253463745,\n",
       "  0.4049627184867859,\n",
       "  0.4044950008392334,\n",
       "  0.40399158000946045,\n",
       "  0.40339958667755127,\n",
       "  0.40276387333869934,\n",
       "  0.40201160311698914,\n",
       "  0.4012690484523773,\n",
       "  0.40045231580734253,\n",
       "  0.39962533116340637,\n",
       "  0.39881280064582825,\n",
       "  0.39802086353302,\n",
       "  0.3972507417201996,\n",
       "  0.3963978588581085,\n",
       "  0.3956349492073059,\n",
       "  0.39490044116973877,\n",
       "  0.39415493607521057,\n",
       "  0.3934909403324127,\n",
       "  0.392866313457489,\n",
       "  0.3922120928764343,\n",
       "  0.39159664511680603,\n",
       "  0.3910912275314331,\n",
       "  0.3904612064361572,\n",
       "  0.3899299204349518,\n",
       "  0.38947001099586487,\n",
       "  0.38897472620010376,\n",
       "  0.38858702778816223,\n",
       "  0.3880968391895294,\n",
       "  0.38766375184059143,\n",
       "  0.3872721195220947,\n",
       "  0.38690608739852905,\n",
       "  0.3865116834640503,\n",
       "  0.3861862123012543,\n",
       "  0.3858362138271332,\n",
       "  0.3854748010635376,\n",
       "  0.38513004779815674,\n",
       "  0.3848420977592468,\n",
       "  0.3845360577106476,\n",
       "  0.38424012064933777,\n",
       "  0.38402828574180603,\n",
       "  0.38372084498405457,\n",
       "  0.3834397494792938],\n",
       " 'val_accuracy': [0.7975000143051147,\n",
       "  0.7975000143051147,\n",
       "  0.7975000143051147,\n",
       "  0.7975000143051147,\n",
       "  0.7975000143051147,\n",
       "  0.7975000143051147,\n",
       "  0.7975000143051147,\n",
       "  0.7975000143051147,\n",
       "  0.7975000143051147,\n",
       "  0.7981250286102295,\n",
       "  0.800000011920929,\n",
       "  0.8031250238418579,\n",
       "  0.8068749904632568,\n",
       "  0.809374988079071,\n",
       "  0.8100000023841858,\n",
       "  0.809374988079071,\n",
       "  0.809374988079071,\n",
       "  0.8118749856948853,\n",
       "  0.8106250166893005,\n",
       "  0.8106250166893005,\n",
       "  0.8118749856948853,\n",
       "  0.8131250143051147,\n",
       "  0.8149999976158142,\n",
       "  0.815625011920929,\n",
       "  0.8149999976158142,\n",
       "  0.8174999952316284,\n",
       "  0.8193749785423279,\n",
       "  0.8181250095367432,\n",
       "  0.8206250071525574,\n",
       "  0.8206250071525574,\n",
       "  0.8206250071525574,\n",
       "  0.8206250071525574,\n",
       "  0.8199999928474426,\n",
       "  0.8199999928474426,\n",
       "  0.8199999928474426,\n",
       "  0.8199999928474426,\n",
       "  0.8199999928474426,\n",
       "  0.8206250071525574,\n",
       "  0.8206250071525574,\n",
       "  0.8224999904632568,\n",
       "  0.8218749761581421,\n",
       "  0.8218749761581421,\n",
       "  0.8224999904632568,\n",
       "  0.8224999904632568,\n",
       "  0.8218749761581421,\n",
       "  0.8212500214576721,\n",
       "  0.8206250071525574,\n",
       "  0.8199999928474426,\n",
       "  0.8187500238418579,\n",
       "  0.8193749785423279,\n",
       "  0.8206250071525574,\n",
       "  0.8206250071525574,\n",
       "  0.8206250071525574,\n",
       "  0.8206250071525574,\n",
       "  0.8206250071525574,\n",
       "  0.8206250071525574,\n",
       "  0.8212500214576721,\n",
       "  0.8224999904632568,\n",
       "  0.8218749761581421,\n",
       "  0.8224999904632568,\n",
       "  0.8224999904632568,\n",
       "  0.8237500190734863,\n",
       "  0.8231250047683716,\n",
       "  0.8243749737739563,\n",
       "  0.824999988079071,\n",
       "  0.8224999904632568,\n",
       "  0.8224999904632568,\n",
       "  0.8237500190734863,\n",
       "  0.8237500190734863,\n",
       "  0.8256250023841858,\n",
       "  0.8268749713897705,\n",
       "  0.8268749713897705,\n",
       "  0.8256250023841858,\n",
       "  0.828125,\n",
       "  0.8268749713897705,\n",
       "  0.828125,\n",
       "  0.8262500166893005,\n",
       "  0.824999988079071,\n",
       "  0.8237500190734863,\n",
       "  0.8243749737739563,\n",
       "  0.8237500190734863,\n",
       "  0.824999988079071,\n",
       "  0.8243749737739563,\n",
       "  0.8262500166893005,\n",
       "  0.8256250023841858,\n",
       "  0.8262500166893005,\n",
       "  0.8262500166893005,\n",
       "  0.8256250023841858,\n",
       "  0.8262500166893005,\n",
       "  0.8262500166893005,\n",
       "  0.8256250023841858,\n",
       "  0.8262500166893005,\n",
       "  0.8262500166893005,\n",
       "  0.8262500166893005,\n",
       "  0.8256250023841858,\n",
       "  0.8256250023841858,\n",
       "  0.8262500166893005,\n",
       "  0.8268749713897705,\n",
       "  0.8274999856948853,\n",
       "  0.8274999856948853],\n",
       " 'val_loss': [0.49397212266921997,\n",
       "  0.4743708074092865,\n",
       "  0.4634542167186737,\n",
       "  0.4556888937950134,\n",
       "  0.44977810978889465,\n",
       "  0.4451225996017456,\n",
       "  0.4414357841014862,\n",
       "  0.4385227859020233,\n",
       "  0.43613895773887634,\n",
       "  0.4342429041862488,\n",
       "  0.4327092468738556,\n",
       "  0.4314340651035309,\n",
       "  0.43030887842178345,\n",
       "  0.4294641613960266,\n",
       "  0.428644597530365,\n",
       "  0.4279710352420807,\n",
       "  0.4272775650024414,\n",
       "  0.4266465902328491,\n",
       "  0.42600685358047485,\n",
       "  0.4253957271575928,\n",
       "  0.42479270696640015,\n",
       "  0.4242669641971588,\n",
       "  0.4236178994178772,\n",
       "  0.42312556505203247,\n",
       "  0.42262372374534607,\n",
       "  0.4219765365123749,\n",
       "  0.42160242795944214,\n",
       "  0.42116573452949524,\n",
       "  0.4205915331840515,\n",
       "  0.42007896304130554,\n",
       "  0.41969725489616394,\n",
       "  0.41921094059944153,\n",
       "  0.41877827048301697,\n",
       "  0.4183823764324188,\n",
       "  0.41804900765419006,\n",
       "  0.4176959693431854,\n",
       "  0.41738250851631165,\n",
       "  0.41712555289268494,\n",
       "  0.4167969822883606,\n",
       "  0.41643989086151123,\n",
       "  0.4161497950553894,\n",
       "  0.41595789790153503,\n",
       "  0.4157010614871979,\n",
       "  0.41535404324531555,\n",
       "  0.4151514172554016,\n",
       "  0.4148792624473572,\n",
       "  0.4146362245082855,\n",
       "  0.4144422113895416,\n",
       "  0.41420257091522217,\n",
       "  0.4138793647289276,\n",
       "  0.41366931796073914,\n",
       "  0.4134756326675415,\n",
       "  0.4132608473300934,\n",
       "  0.41294386982917786,\n",
       "  0.4127621054649353,\n",
       "  0.4124332368373871,\n",
       "  0.41208362579345703,\n",
       "  0.4116455912590027,\n",
       "  0.4113020598888397,\n",
       "  0.41078078746795654,\n",
       "  0.4102899432182312,\n",
       "  0.4096413552761078,\n",
       "  0.40888577699661255,\n",
       "  0.4081379175186157,\n",
       "  0.4073337912559509,\n",
       "  0.40660110116004944,\n",
       "  0.4055749475955963,\n",
       "  0.4047997295856476,\n",
       "  0.40374618768692017,\n",
       "  0.40279459953308105,\n",
       "  0.4018855392932892,\n",
       "  0.4010240435600281,\n",
       "  0.40023273229599,\n",
       "  0.3995009660720825,\n",
       "  0.3987463116645813,\n",
       "  0.39795294404029846,\n",
       "  0.3972344994544983,\n",
       "  0.39670026302337646,\n",
       "  0.3960777521133423,\n",
       "  0.39530763030052185,\n",
       "  0.39481160044670105,\n",
       "  0.39417561888694763,\n",
       "  0.3935639262199402,\n",
       "  0.3930714726448059,\n",
       "  0.39261186122894287,\n",
       "  0.3922193944454193,\n",
       "  0.391508549451828,\n",
       "  0.391093373298645,\n",
       "  0.39073845744132996,\n",
       "  0.390207439661026,\n",
       "  0.3897819519042969,\n",
       "  0.38938260078430176,\n",
       "  0.3890281915664673,\n",
       "  0.3885919153690338,\n",
       "  0.3882642984390259,\n",
       "  0.3879259526729584,\n",
       "  0.38754045963287354,\n",
       "  0.38726314902305603,\n",
       "  0.38680407404899597,\n",
       "  0.38658905029296875]}"
      ]
     },
     "execution_count": 26,
     "metadata": {},
     "output_type": "execute_result"
    }
   ],
   "source": [
    "import matplotlib.pyplot as plt\n",
    "#History is a object, but history.history is a dictionary which gives us a dictionary with 4 key-value pair here, training loss, accuracy score, validation loss, validation accuracy\n",
    "history.history"
   ]
  },
  {
   "cell_type": "code",
   "execution_count": 27,
   "metadata": {
    "execution": {
     "iopub.execute_input": "2024-12-08T17:02:19.836436Z",
     "iopub.status.busy": "2024-12-08T17:02:19.836000Z",
     "iopub.status.idle": "2024-12-08T17:02:20.144104Z",
     "shell.execute_reply": "2024-12-08T17:02:20.142697Z",
     "shell.execute_reply.started": "2024-12-08T17:02:19.836400Z"
    },
    "trusted": true
   },
   "outputs": [
    {
     "data": {
      "text/plain": [
       "[<matplotlib.lines.Line2D at 0x2bbe11fb510>]"
      ]
     },
     "execution_count": 27,
     "metadata": {},
     "output_type": "execute_result"
    },
    {
     "data": {
      "image/png": "[encoded data removed]",
      "text/plain": [
       "<Figure size 640x480 with 1 Axes>"
      ]
     },
     "metadata": {},
     "output_type": "display_data"
    }
   ],
   "source": [
    "plt.plot(history.history['loss'])\n",
    "plt.plot(history.history['val_loss'])"
   ]
  },
  {
   "cell_type": "code",
   "execution_count": 28,
   "metadata": {
    "execution": {
     "iopub.execute_input": "2024-12-08T17:03:25.447250Z",
     "iopub.status.busy": "2024-12-08T17:03:25.446837Z",
     "iopub.status.idle": "2024-12-08T17:03:25.637601Z",
     "shell.execute_reply": "2024-12-08T17:03:25.636534Z",
     "shell.execute_reply.started": "2024-12-08T17:03:25.447215Z"
    },
    "trusted": true
   },
   "outputs": [
    {
     "data": {
      "text/plain": [
       "[<matplotlib.lines.Line2D at 0x2bbe11b9fd0>]"
      ]
     },
     "execution_count": 28,
     "metadata": {},
     "output_type": "execute_result"
    },
    {
     "data": {
      "image/png": "[encoded data removed]",
      "text/plain": [
       "<Figure size 640x480 with 1 Axes>"
      ]
     },
     "metadata": {},
     "output_type": "display_data"
    }
   ],
   "source": [
    "plt.plot(history.history['accuracy'])\n",
    "plt.plot(history.history['val_accuracy'])"
   ]
  },
  {
   "cell_type": "code",
   "execution_count": null,
   "metadata": {
    "trusted": true
   },
   "outputs": [],
   "source": []
  }
 ],
 "metadata": {
  "kaggle": {
   "accelerator": "none",
   "dataSources": [
    {
     "datasetId": 869651,
     "sourceId": 1481789,
     "sourceType": "datasetVersion"
    }
   ],
   "dockerImageVersionId": 30804,
   "isGpuEnabled": false,
   "isInternetEnabled": true,
   "language": "python",
   "sourceType": "notebook"
  },
  "kernelspec": {
   "display_name": "Python 3",
   "language": "python",
   "name": "python3"
  },
  "language_info": {
   "codemirror_mode": {
    "name": "ipython",
    "version": 3
   },
   "file_extension": ".py",
   "mimetype": "text/x-python",
   "name": "python",
   "nbconvert_exporter": "python",
   "pygments_lexer": "ipython3",
   "version": "3.11.9"
  }
 },
 "nbformat": 4,
 "nbformat_minor": 4
}
